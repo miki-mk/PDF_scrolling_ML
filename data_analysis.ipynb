{
 "cells": [
  {
   "cell_type": "code",
   "execution_count": null,
   "id": "3213ee7b",
   "metadata": {},
   "outputs": [],
   "source": [
    "import pandas as pd\n",
    "import matplotlib.pyplot as plt\n",
    "import numpy as np\n",
    "import torch\n",
    "import torch.nn as nn\n",
    "import torch.optim as optim\n",
    "from torch.utils.data import DataLoader, TensorDataset, random_split\n",
    "from xgboost import XGBClassifier\n",
    "from sklearn.metrics import accuracy_score"
   ]
  },
  {
   "cell_type": "code",
   "execution_count": 39,
   "id": "25482d4a",
   "metadata": {},
   "outputs": [],
   "source": [
    "noise = pd.read_csv(\"noise\")\n",
    "up = pd.read_csv(\"up\")\n",
    "down = pd.read_csv(\"down\")"
   ]
  },
  {
   "cell_type": "code",
   "execution_count": null,
   "id": "88e91924",
   "metadata": {},
   "outputs": [],
   "source": []
  },
  {
   "cell_type": "code",
   "execution_count": 40,
   "id": "ac78be4c",
   "metadata": {},
   "outputs": [],
   "source": [
    "noise[['X','Y','Time']] = noise[['X','Y','Time']].diff(periods=21, axis=0)\n",
    "noise = noise[21:].reindex()\n",
    "\n",
    "up[['X','Y','Time']] = up[['X','Y','Time']].diff(periods=21, axis=0)\n",
    "up = up[21:].reindex()\n",
    "\n",
    "down[['X','Y','Time']] = down[['X','Y','Time']].diff(periods=21, axis=0)\n",
    "down = down[21:].reindex()"
   ]
  },
  {
   "cell_type": "code",
   "execution_count": 41,
   "id": "034f10ed",
   "metadata": {},
   "outputs": [
    {
     "name": "stdout",
     "output_type": "stream",
     "text": [
      "True\n",
      "True\n",
      "True\n"
     ]
    }
   ],
   "source": [
    "print(noise.isna().mean().mean() == 0)\n",
    "print(up.isna().mean().mean() == 0)\n",
    "print(down.isna().mean().mean() == 0)"
   ]
  },
  {
   "cell_type": "code",
   "execution_count": 42,
   "id": "5e127e5d",
   "metadata": {},
   "outputs": [],
   "source": [
    "noise['Vx'] , noise['Vy']= noise['X']/noise['Time'] , noise['Y']/noise['Time']\n",
    "up['Vx'] , up['Vy']= up['X']/up['Time'] , up['Y']/up['Time']\n",
    "down['Vx'] , down['Vy']= down['X']/down['Time'] , down['Y']/down['Time']\n",
    "\n",
    "#noise = noise.drop(['X','Y','Time'],axis = 1)\n",
    "#up = up.drop(['X','Y','Time'],axis = 1)\n",
    "#down = down.drop(['X','Y','Time'],axis = 1)"
   ]
  },
  {
   "cell_type": "code",
   "execution_count": 43,
   "id": "ef6aba23",
   "metadata": {},
   "outputs": [
    {
     "data": {
      "text/html": [
       "<div>\n",
       "<style scoped>\n",
       "    .dataframe tbody tr th:only-of-type {\n",
       "        vertical-align: middle;\n",
       "    }\n",
       "\n",
       "    .dataframe tbody tr th {\n",
       "        vertical-align: top;\n",
       "    }\n",
       "\n",
       "    .dataframe thead th {\n",
       "        text-align: right;\n",
       "    }\n",
       "</style>\n",
       "<table border=\"1\" class=\"dataframe\">\n",
       "  <thead>\n",
       "    <tr style=\"text-align: right;\">\n",
       "      <th></th>\n",
       "      <th>ID</th>\n",
       "      <th>X</th>\n",
       "      <th>Y</th>\n",
       "      <th>Time</th>\n",
       "      <th>Vx</th>\n",
       "      <th>Vy</th>\n",
       "    </tr>\n",
       "  </thead>\n",
       "  <tbody>\n",
       "    <tr>\n",
       "      <th>21</th>\n",
       "      <td>0.0</td>\n",
       "      <td>13.0</td>\n",
       "      <td>-13.0</td>\n",
       "      <td>0.044053</td>\n",
       "      <td>295.101759</td>\n",
       "      <td>-295.101759</td>\n",
       "    </tr>\n",
       "    <tr>\n",
       "      <th>22</th>\n",
       "      <td>1.0</td>\n",
       "      <td>8.0</td>\n",
       "      <td>-13.0</td>\n",
       "      <td>0.044053</td>\n",
       "      <td>181.601082</td>\n",
       "      <td>-295.101759</td>\n",
       "    </tr>\n",
       "    <tr>\n",
       "      <th>23</th>\n",
       "      <td>2.0</td>\n",
       "      <td>3.0</td>\n",
       "      <td>-17.0</td>\n",
       "      <td>0.044053</td>\n",
       "      <td>68.100406</td>\n",
       "      <td>-385.902300</td>\n",
       "    </tr>\n",
       "    <tr>\n",
       "      <th>24</th>\n",
       "      <td>3.0</td>\n",
       "      <td>1.0</td>\n",
       "      <td>-21.0</td>\n",
       "      <td>0.044053</td>\n",
       "      <td>22.700135</td>\n",
       "      <td>-476.702841</td>\n",
       "    </tr>\n",
       "    <tr>\n",
       "      <th>25</th>\n",
       "      <td>4.0</td>\n",
       "      <td>-2.0</td>\n",
       "      <td>-26.0</td>\n",
       "      <td>0.044053</td>\n",
       "      <td>-45.400271</td>\n",
       "      <td>-590.203518</td>\n",
       "    </tr>\n",
       "    <tr>\n",
       "      <th>...</th>\n",
       "      <td>...</td>\n",
       "      <td>...</td>\n",
       "      <td>...</td>\n",
       "      <td>...</td>\n",
       "      <td>...</td>\n",
       "      <td>...</td>\n",
       "    </tr>\n",
       "    <tr>\n",
       "      <th>87775</th>\n",
       "      <td>16.0</td>\n",
       "      <td>-28.0</td>\n",
       "      <td>19.0</td>\n",
       "      <td>0.040041</td>\n",
       "      <td>-699.287925</td>\n",
       "      <td>474.516806</td>\n",
       "    </tr>\n",
       "    <tr>\n",
       "      <th>87776</th>\n",
       "      <td>17.0</td>\n",
       "      <td>-19.0</td>\n",
       "      <td>-3.0</td>\n",
       "      <td>0.040041</td>\n",
       "      <td>-474.516806</td>\n",
       "      <td>-74.923706</td>\n",
       "    </tr>\n",
       "    <tr>\n",
       "      <th>87777</th>\n",
       "      <td>18.0</td>\n",
       "      <td>-23.0</td>\n",
       "      <td>-7.0</td>\n",
       "      <td>0.040041</td>\n",
       "      <td>-574.415081</td>\n",
       "      <td>-174.821981</td>\n",
       "    </tr>\n",
       "    <tr>\n",
       "      <th>87778</th>\n",
       "      <td>19.0</td>\n",
       "      <td>-20.0</td>\n",
       "      <td>0.0</td>\n",
       "      <td>0.040041</td>\n",
       "      <td>-499.491375</td>\n",
       "      <td>0.000000</td>\n",
       "    </tr>\n",
       "    <tr>\n",
       "      <th>87779</th>\n",
       "      <td>20.0</td>\n",
       "      <td>-21.0</td>\n",
       "      <td>14.0</td>\n",
       "      <td>0.040041</td>\n",
       "      <td>-524.465944</td>\n",
       "      <td>349.643963</td>\n",
       "    </tr>\n",
       "  </tbody>\n",
       "</table>\n",
       "<p>87759 rows × 6 columns</p>\n",
       "</div>"
      ],
      "text/plain": [
       "         ID     X     Y      Time          Vx          Vy\n",
       "21      0.0  13.0 -13.0  0.044053  295.101759 -295.101759\n",
       "22      1.0   8.0 -13.0  0.044053  181.601082 -295.101759\n",
       "23      2.0   3.0 -17.0  0.044053   68.100406 -385.902300\n",
       "24      3.0   1.0 -21.0  0.044053   22.700135 -476.702841\n",
       "25      4.0  -2.0 -26.0  0.044053  -45.400271 -590.203518\n",
       "...     ...   ...   ...       ...         ...         ...\n",
       "87775  16.0 -28.0  19.0  0.040041 -699.287925  474.516806\n",
       "87776  17.0 -19.0  -3.0  0.040041 -474.516806  -74.923706\n",
       "87777  18.0 -23.0  -7.0  0.040041 -574.415081 -174.821981\n",
       "87778  19.0 -20.0   0.0  0.040041 -499.491375    0.000000\n",
       "87779  20.0 -21.0  14.0  0.040041 -524.465944  349.643963\n",
       "\n",
       "[87759 rows x 6 columns]"
      ]
     },
     "execution_count": 43,
     "metadata": {},
     "output_type": "execute_result"
    }
   ],
   "source": [
    "down"
   ]
  },
  {
   "cell_type": "code",
   "execution_count": 44,
   "id": "751de9b5",
   "metadata": {},
   "outputs": [
    {
     "data": {
      "text/plain": [
       "197526"
      ]
     },
     "execution_count": 44,
     "metadata": {},
     "output_type": "execute_result"
    }
   ],
   "source": [
    "up.shape[0] + down.shape[0] + noise.shape[0]"
   ]
  },
  {
   "cell_type": "code",
   "execution_count": 45,
   "id": "8d46e849",
   "metadata": {},
   "outputs": [],
   "source": [
    "n = noise.values.reshape(-1,1,21,6)\n",
    "u = up.values.reshape(-1,1,21,6)\n",
    "d = down.values.reshape(-1,1,21,6)\n"
   ]
  },
  {
   "cell_type": "code",
   "execution_count": 49,
   "id": "ba7c2b15",
   "metadata": {},
   "outputs": [
    {
     "data": {
      "text/plain": [
       "array([[[ 0.00000000e+00,  8.00000000e+00, -2.00000000e+00,\n",
       "          4.49748039e-02,  1.77877374e+02, -4.44693434e+01],\n",
       "        [ 1.00000000e+00, -1.40000000e+01,  1.10000000e+01,\n",
       "          4.49748039e-02, -3.11285404e+02,  2.44581389e+02],\n",
       "        [ 2.00000000e+00, -1.10000000e+01,  5.00000000e+00,\n",
       "          4.49748039e-02, -2.44581389e+02,  1.11173358e+02],\n",
       "        [ 3.00000000e+00, -5.00000000e+00, -7.00000000e+00,\n",
       "          4.49748039e-02, -1.11173358e+02, -1.55642702e+02],\n",
       "        [ 4.00000000e+00, -1.00000000e+00, -1.30000000e+01,\n",
       "          4.49748039e-02, -2.22346717e+01, -2.89050732e+02],\n",
       "        [ 5.00000000e+00, -1.00000000e+00, -1.80000000e+01,\n",
       "          4.49748039e-02, -2.22346717e+01, -4.00224091e+02],\n",
       "        [ 6.00000000e+00,  4.00000000e+00, -1.70000000e+01,\n",
       "          4.49748039e-02,  8.89386868e+01, -3.77989419e+02],\n",
       "        [ 7.00000000e+00,  5.00000000e+00, -2.10000000e+01,\n",
       "          4.49748039e-02,  1.11173358e+02, -4.66928106e+02],\n",
       "        [ 8.00000000e+00,  4.00000000e+00, -2.10000000e+01,\n",
       "          4.49748039e-02,  8.89386868e+01, -4.66928106e+02],\n",
       "        [ 9.00000000e+00, -2.00000000e+00, -2.20000000e+01,\n",
       "          4.49748039e-02, -4.44693434e+01, -4.89162777e+02],\n",
       "        [ 1.00000000e+01, -4.00000000e+00, -1.80000000e+01,\n",
       "          4.49748039e-02, -8.89386868e+01, -4.00224091e+02],\n",
       "        [ 1.10000000e+01, -2.00000000e+00, -1.40000000e+01,\n",
       "          4.49748039e-02, -4.44693434e+01, -3.11285404e+02],\n",
       "        [ 1.20000000e+01,  2.00000000e+00, -1.10000000e+01,\n",
       "          4.49748039e-02,  4.44693434e+01, -2.44581389e+02],\n",
       "        [ 1.30000000e+01, -3.00000000e+00, -2.50000000e+01,\n",
       "          4.49748039e-02, -6.67040151e+01, -5.55866792e+02],\n",
       "        [ 1.40000000e+01, -1.00000000e+00, -2.00000000e+01,\n",
       "          4.49748039e-02, -2.22346717e+01, -4.44693434e+02],\n",
       "        [ 1.50000000e+01,  0.00000000e+00, -1.90000000e+01,\n",
       "          4.49748039e-02,  0.00000000e+00, -4.22458762e+02],\n",
       "        [ 1.60000000e+01,  3.00000000e+00, -1.80000000e+01,\n",
       "          4.49748039e-02,  6.67040151e+01, -4.00224091e+02],\n",
       "        [ 1.70000000e+01, -6.00000000e+00, -2.30000000e+01,\n",
       "          4.49748039e-02, -1.33408030e+02, -5.11397449e+02],\n",
       "        [ 1.80000000e+01, -6.00000000e+00, -2.40000000e+01,\n",
       "          4.49748039e-02, -1.33408030e+02, -5.33632121e+02],\n",
       "        [ 1.90000000e+01, -6.00000000e+00, -2.10000000e+01,\n",
       "          4.49748039e-02, -1.33408030e+02, -4.66928106e+02],\n",
       "        [ 2.00000000e+01, -4.00000000e+00, -1.80000000e+01,\n",
       "          4.49748039e-02, -8.89386868e+01, -4.00224091e+02]]])"
      ]
     },
     "execution_count": 49,
     "metadata": {},
     "output_type": "execute_result"
    }
   ],
   "source": [
    "u[0,:,:,:]"
   ]
  },
  {
   "cell_type": "code",
   "execution_count": 122,
   "id": "0d4a58b3",
   "metadata": {},
   "outputs": [],
   "source": [
    "#data = pd.concat([up,down,noise], axis=0).reindex()"
   ]
  },
  {
   "cell_type": "code",
   "execution_count": 47,
   "id": "ccc8d7f3",
   "metadata": {},
   "outputs": [
    {
     "data": {
      "text/plain": [
       "(9406, 1, 21, 6)"
      ]
     },
     "execution_count": 47,
     "metadata": {},
     "output_type": "execute_result"
    }
   ],
   "source": [
    "N, C, H, W = n.shape[0] + u.shape[0] + d.shape[0], n.shape[1],n.shape[2] , n.shape[3] \n",
    "N, C, H, W"
   ]
  },
  {
   "cell_type": "code",
   "execution_count": 136,
   "id": "3f0da2f7",
   "metadata": {},
   "outputs": [],
   "source": [
    "#X = np.concatenate((n, u ,d), axis=0)"
   ]
  },
  {
   "cell_type": "code",
   "execution_count": 137,
   "id": "2b26daae",
   "metadata": {},
   "outputs": [],
   "source": [
    "#y = torch.randint(0, num_classes, (N,))\n"
   ]
  },
  {
   "cell_type": "code",
   "execution_count": 48,
   "id": "6a53bbf8",
   "metadata": {},
   "outputs": [
    {
     "name": "stdout",
     "output_type": "stream",
     "text": [
      "Epoch 1/15 - Loss: 1.2463, Acc: 0.6853\n",
      "Epoch 2/15 - Loss: 0.4196, Acc: 0.8526\n",
      "Epoch 3/15 - Loss: 0.3597, Acc: 0.8768\n",
      "Epoch 4/15 - Loss: 0.3231, Acc: 0.8876\n",
      "Epoch 5/15 - Loss: 0.2582, Acc: 0.9116\n",
      "Epoch 6/15 - Loss: 0.2483, Acc: 0.9136\n",
      "Epoch 7/15 - Loss: 0.2610, Acc: 0.9083\n",
      "Epoch 8/15 - Loss: 0.2178, Acc: 0.9248\n",
      "Epoch 9/15 - Loss: 0.2012, Acc: 0.9305\n",
      "Epoch 10/15 - Loss: 0.2034, Acc: 0.9296\n",
      "Epoch 11/15 - Loss: 0.1708, Acc: 0.9399\n",
      "Epoch 12/15 - Loss: 0.1771, Acc: 0.9402\n",
      "Epoch 13/15 - Loss: 0.1761, Acc: 0.9397\n",
      "Epoch 14/15 - Loss: 0.1480, Acc: 0.9490\n",
      "Epoch 15/15 - Loss: 0.1310, Acc: 0.9552\n"
     ]
    }
   ],
   "source": [
    "# 1) Hyperparameters and synthetic data setup\n",
    "#N, C, H, W = u.shape#1000, 1, 21,6  # samples, channels, height, width\n",
    "num_classes = 3\n",
    "batch_size = 64\n",
    "epochs = 15\n",
    "learning_rate = 1e-3\n",
    "\n",
    "device = torch.device(\"cuda\" if torch.cuda.is_available() else \"cpu\")\n",
    "\n",
    "# Synthetic dataset: random \"images\" and integer labels\n",
    "X = torch.from_numpy(np.concatenate((n, u ,d), axis=0))\n",
    "y = torch.from_numpy(np.concatenate((np.zeros(n.shape[0]).reshape(-1,) , np.ones(u.shape[0]).reshape(-1,),(np.ones(d.shape[0])+1).reshape(-1,)), axis=0))\n",
    "\n",
    "\n",
    "dataset = TensorDataset(X, y)\n",
    "train_size = int(0.8 * N)\n",
    "val_size = N - train_size\n",
    "train_ds, val_ds = random_split(dataset, [train_size, val_size])\n",
    "train_loader = DataLoader(train_ds, batch_size=batch_size, shuffle=True)\n",
    "val_loader = DataLoader(val_ds, batch_size=batch_size)\n",
    "\n",
    "# 2) Define the CNN with an embedding layer\n",
    "class CNNEmbedder(nn.Module):\n",
    "    def __init__(self, in_channels=1, embed_dim=128, num_classes= 3):\n",
    "        super(CNNEmbedder, self).__init__()\n",
    "        self.features = nn.Sequential(\n",
    "            nn.Conv2d(in_channels, 32, kernel_size=3, padding=1),\n",
    "            nn.ReLU(),\n",
    "            nn.MaxPool2d(2),\n",
    "            nn.Conv2d(32, 64, kernel_size=3, padding=1),\n",
    "            nn.ReLU(),\n",
    "            nn.MaxPool2d(2),\n",
    "        )\n",
    "        # compute flatten dimension: channels=64, spatial=H/4 x W/4\n",
    "        self.flatten_dim = 64 * (H // 4) * (W // 4)\n",
    "        self.embed = nn.Linear(self.flatten_dim, embed_dim)\n",
    "        self.classifier = nn.Linear(embed_dim, num_classes)\n",
    "\n",
    "    def forward(self, x):\n",
    "        x = self.features(x)\n",
    "        x = x.view(x.size(0), -1)\n",
    "        emb = torch.relu(self.embed(x))       # embedding layer\n",
    "        out = self.classifier(emb)            # logits\n",
    "        return out, emb\n",
    "\n",
    "model = CNNEmbedder(in_channels=C, embed_dim = 64, num_classes=num_classes).to(device)\n",
    "criterion = nn.CrossEntropyLoss()\n",
    "optimizer = optim.Adam(model.parameters(), lr=learning_rate)\n",
    "\n",
    "# 3) Training loop\n",
    "model.train()\n",
    "for epoch in range(epochs):\n",
    "    total_loss, total_correct = 0.0, 0\n",
    "    for xb, yb in train_loader:\n",
    "        xb, yb = xb.to(device), yb.to(device)\n",
    "        optimizer.zero_grad()\n",
    "        logits, _ = model(xb.float())\n",
    "        loss = criterion(logits, yb.long())\n",
    "        loss.backward()\n",
    "        optimizer.step()\n",
    "\n",
    "        total_loss += loss.item() * xb.size(0)\n",
    "        total_correct += (logits.argmax(dim=1) == yb).sum().item()\n",
    "\n",
    "    avg_loss = total_loss / train_size\n",
    "    train_acc = total_correct / train_size\n",
    "    print(f\"Epoch {epoch+1}/{epochs} - Loss: {avg_loss:.4f}, Acc: {train_acc:.4f}\")\n",
    "\n"
   ]
  },
  {
   "cell_type": "code",
   "execution_count": 144,
   "id": "32c2315d",
   "metadata": {},
   "outputs": [
    {
     "name": "stdout",
     "output_type": "stream",
     "text": [
      "XGBoost on CNN embeddings accuracy: 0.9373\n"
     ]
    }
   ],
   "source": [
    "# 4) Extract embeddings for train and validation sets\n",
    "def extract_embeddings(loader):\n",
    "    model.eval()\n",
    "    all_emb, all_labels = [], []\n",
    "    with torch.no_grad():\n",
    "        for xb, yb in loader:\n",
    "            xb = xb.float().to(device)\n",
    "            _, emb = model(xb)\n",
    "            all_emb.append(emb.cpu())\n",
    "            all_labels.append(yb)\n",
    "\n",
    "    embeddings = torch.cat(all_emb, dim=0).numpy()\n",
    "    labels = torch.cat(all_labels, dim=0).numpy()\n",
    "    return embeddings, labels\n",
    "\n",
    "X_train_emb, y_train_np = extract_embeddings(train_loader)\n",
    "X_val_emb, y_val_np     = extract_embeddings(val_loader)\n",
    "\n",
    "# 5) Train XGBoost on embeddings\n",
    "xgb = XGBClassifier(\n",
    "    n_estimators=100,\n",
    "    max_depth=4,\n",
    "    learning_rate=0.1,\n",
    "    objective='multi:softmax',\n",
    "    num_class=num_classes,\n",
    "    use_label_encoder=False,\n",
    "    eval_metric='mlogloss'\n",
    ")\n",
    "xgb.fit(X_train_emb, y_train_np)\n",
    "\n",
    "# 6) Evaluate\n",
    "y_pred = xgb.predict(X_val_emb)\n",
    "acc = accuracy_score(y_val_np, y_pred)\n",
    "print(f\"XGBoost on CNN embeddings accuracy: {acc:.4f}\")\n"
   ]
  },
  {
   "cell_type": "code",
   "execution_count": null,
   "id": "9002f4d1",
   "metadata": {},
   "outputs": [],
   "source": []
  },
  {
   "cell_type": "code",
   "execution_count": 151,
   "id": "14b1cd5b",
   "metadata": {},
   "outputs": [],
   "source": [
    "def predict_from_list(matrix_list):\n",
    "    # matrix_list: list of HxW lists or arrays\n",
    "    arr = np.array(matrix_list, dtype=np.float32)  # shape (N, H, W)\n",
    "    if arr.ndim == 2:\n",
    "        arr = arr[np.newaxis, ...]\n",
    "    # add channel dimension\n",
    "    tensor = torch.from_numpy(arr).unsqueeze(1).to(device)  # shape (N,1,H,W)\n",
    "\n",
    "    model.eval()\n",
    "    with torch.no_grad():\n",
    "        _, emb = model(tensor)\n",
    "    emb_np = emb.cpu().numpy()  # shape (N, embed_dim)\n",
    "    preds = xgb.predict(emb_np)\n",
    "    return preds"
   ]
  },
  {
   "cell_type": "code",
   "execution_count": 156,
   "id": "734da4e2",
   "metadata": {},
   "outputs": [
    {
     "data": {
      "text/plain": [
       "array([1])"
      ]
     },
     "execution_count": 156,
     "metadata": {},
     "output_type": "execute_result"
    }
   ],
   "source": [
    "matrix_list = u[284,:,:,:]\n",
    "predict_from_list(matrix_list)"
   ]
  },
  {
   "cell_type": "code",
   "execution_count": 158,
   "id": "61b2048a",
   "metadata": {},
   "outputs": [],
   "source": [
    "torch.save(model.state_dict(), \"cnn_embedder_state.pt\")\n",
    "xgb.save_model(\"xgb_embedder.json\")"
   ]
  },
  {
   "cell_type": "code",
   "execution_count": 159,
   "id": "c7c5b36a",
   "metadata": {},
   "outputs": [],
   "source": [
    "scripted = torch.jit.script(model.cpu())  \n",
    "scripted.save(\"cnn_embedder_ts.pt\")\n",
    "xgb.save_model(\"xgb_embedder.json\")"
   ]
  },
  {
   "cell_type": "code",
   "execution_count": null,
   "id": "98479eb8",
   "metadata": {},
   "outputs": [],
   "source": []
  }
 ],
 "metadata": {
  "kernelspec": {
   "display_name": "Python 3",
   "language": "python",
   "name": "python3"
  },
  "language_info": {
   "codemirror_mode": {
    "name": "ipython",
    "version": 3
   },
   "file_extension": ".py",
   "mimetype": "text/x-python",
   "name": "python",
   "nbconvert_exporter": "python",
   "pygments_lexer": "ipython3",
   "version": "3.12.0"
  }
 },
 "nbformat": 4,
 "nbformat_minor": 5
}
