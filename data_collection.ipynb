{
 "cells": [
  {
   "cell_type": "code",
   "execution_count": 1,
   "id": "cbbbb42f",
   "metadata": {},
   "outputs": [],
   "source": [
    "import cv2\n",
    "import mediapipe as mp\n",
    "from math import hypot\n",
    "import numpy as np\n",
    "import pygetwindow as gw\n",
    "import pyautogui\n",
    "import time"
   ]
  },
  {
   "cell_type": "code",
   "execution_count": null,
   "id": "55a3bdc0",
   "metadata": {},
   "outputs": [
    {
     "name": "stdout",
     "output_type": "stream",
     "text": [
      "--- Main loop ---\n"
     ]
    }
   ],
   "source": [
    "# --- MediaPipe setup ---\n",
    "mpHands = mp.solutions.hands\n",
    "hands = mpHands.Hands(\n",
    "    static_image_mode=False,\n",
    "    model_complexity=1,\n",
    "    min_detection_confidence=0.75,\n",
    "    min_tracking_confidence=0.75,\n",
    "    max_num_hands=1\n",
    ")\n",
    "Draw = mp.solutions.drawing_utils\n",
    "\n",
    "# --- Gesture thresholds (in pixels) -- \n",
    "up_val = 10    # below this = “pinch” → scroll down\n",
    "down_val  = 10    # above this = “unpinch” → scroll up\n",
    "DEBOUNCE_MS = 1000   # ignore new scrolls for this many ms\n",
    "\n",
    "last_scroll_time = 0\n",
    "\n",
    "# --- Camera setup ---\n",
    "cap = cv2.VideoCapture(0)\n",
    "if not cap.isOpened():\n",
    "    raise RuntimeError(\"Could not open webcam\")\n",
    "\n",
    "print(\"--- Main loop ---\")\n",
    "\n",
    "\n",
    "pts = []\n",
    "try:\n",
    "    while True:\n",
    "        ret, frame = cap.read()\n",
    "        if not ret:\n",
    "            break\n",
    "        frame = cv2.flip(frame, 1)\n",
    "        frameRGB = cv2.cvtColor(frame, cv2.COLOR_BGR2RGB)\n",
    "        result = hands.process(frameRGB)\n",
    "        if result.multi_hand_landmarks:\n",
    "            handlm = result.multi_hand_landmarks[0]\n",
    "            h, w, _ = frame.shape\n",
    "            for idx, lm in enumerate(handlm.landmark):\n",
    "                x_px, y_px = int(lm.x * w), int(lm.y * h)\n",
    "                pts.append((idx, x_px, y_px,time.time()))\n",
    "            Draw.draw_landmarks(frame, handlm, mpHands.HAND_CONNECTIONS)\n",
    "        cv2.imshow('PDF Scroll Control', frame)\n",
    "        if cv2.waitKey(1) & 0xFF == 27:\n",
    "            break\n",
    "finally:\n",
    "    cap.release()\n",
    "    cv2.destroyAllWindows()"
   ]
  },
  {
   "cell_type": "code",
   "execution_count": null,
   "id": "5dbe5691",
   "metadata": {},
   "outputs": [],
   "source": [
    "np.savetxt('data.csv', pts, delimiter=',')"
   ]
  }
 ],
 "metadata": {
  "kernelspec": {
   "display_name": "Python 3",
   "language": "python",
   "name": "python3"
  },
  "language_info": {
   "codemirror_mode": {
    "name": "ipython",
    "version": 3
   },
   "file_extension": ".py",
   "mimetype": "text/x-python",
   "name": "python",
   "nbconvert_exporter": "python",
   "pygments_lexer": "ipython3",
   "version": "3.9.7"
  }
 },
 "nbformat": 4,
 "nbformat_minor": 5
}
